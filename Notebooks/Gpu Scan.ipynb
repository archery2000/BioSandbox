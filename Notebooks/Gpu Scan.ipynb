{
 "cells": [
  {
   "cell_type": "code",
   "execution_count": 1,
   "metadata": {
    "collapsed": false
   },
   "outputs": [],
   "source": [
    "#load \"Paket.fsx\"\n",
    "Paket.Dependencies.Install \"\"\" \n",
    "frameworks: net45\n",
    "source https://nuget.org/api/v2\n",
    "nuget Alea\n",
    "\"\"\"\n",
    "Paket.LoadingScripts.ScriptGeneration.generateScriptsForRootFolder\n",
    "   Paket.LoadingScripts.ScriptGeneration.FSharp\n",
    "   (Paket.FrameworkIdentifier.DotNetFramework Paket.FrameworkVersion.V4_5)\n",
    "   (System.IO.DirectoryInfo __SOURCE_DIRECTORY__)\n",
    "\n",
    "#load \"paket-files/include-scripts/net45/include.main.group.fsx\"\n",
    "#load \"packages/Alea/Alea.fsx\""
   ]
  },
  {
   "cell_type": "code",
   "execution_count": 2,
   "metadata": {
    "collapsed": false
   },
   "outputs": [
    {
     "data": {
      "text/plain": [
       "[0|3.5|GeForce GTX TITAN]"
      ]
     },
     "execution_count": 2,
     "metadata": {},
     "output_type": "execute_result"
    }
   ],
   "source": [
    "open Alea\n",
    "open Alea.Parallel\n",
    "Gpu.Default"
   ]
  },
  {
   "cell_type": "code",
   "execution_count": 9,
   "metadata": {
    "collapsed": false
   },
   "outputs": [],
   "source": [
    "[<GpuManaged>]\n",
    "let scanit () = \n",
    "    \n",
    "    let len = 100 * 100\n",
    "    let arr = [|0..len - 1|]\n",
    "    let arrOut = Array.zeroCreate len\n",
    "    let gpu = Gpu.Default;\n",
    "    use session = new Session(gpu)\n",
    "\n",
    "    GpuExtension.Scan(session, arrOut, arr, 0, (fun x y -> x + y), 0)\n",
    "    printfn \"%A\" arrOut\n"
   ]
  },
  {
   "cell_type": "code",
   "execution_count": 10,
   "metadata": {
    "collapsed": false
   },
   "outputs": [
    {
     "name": "stderr",
     "output_type": "stream",
     "text": [
      "System.Exception: Object reference not set to an instance of an object.\r\n",
      "Loading method as kernel:\r\n",
      "-> Method: Alea.Parallel.Device.DeviceScan.[Void KernelUpsweep[Int32](Alea.Constant`1[System.Int32], Alea.Constant`1[System.Int32], System.Func`3[System.Int32,System.Int32,System.Int32], Alea.deviceptr`1[System.Int32], Alea.deviceptr`1[System.Int32], Int32)]\r\n",
      "-> InstanceOpt: <None>\r\n",
      "-> Argument.#0: 512\r\n",
      "-> Argument.#1: 2\r\n",
      "-> Argument.#2: System.Func`3[System.Int32,System.Int32,System.Int32]\r\n",
      "-> Argument.#3: deviceptr(704140200)\r\n",
      "-> Argument.#4: deviceptr(70405DA00)\r\n",
      "-> Argument.#5: 10000\r\n",
      "Getting or loading method as kernel:\r\n",
      "-> Method: Alea.Parallel.Device.DeviceScan.[Void KernelUpsweep[Int32](Alea.Constant`1[System.Int32], Alea.Constant`1[System.Int32], System.Func`3[System.Int32,System.Int32,System.Int32], Alea.deviceptr`1[System.Int32], Alea.deviceptr`1[System.Int32], Int32)]\r\n",
      "-> InstanceOpt: <None>\r\n",
      "-> Argument.#0: 512\r\n",
      "-> Argument.#1: 2\r\n",
      "-> Argument.#2: System.Func`3[System.Int32,System.Int32,System.Int32]\r\n",
      "-> Argument.#3: deviceptr(704140200)\r\n",
      "-> Argument.#4: deviceptr(70405DA00)\r\n",
      "-> Argument.#5: 10000\r\n",
      "\r\n",
      "   at Alea.Gpu.GetOrLoad(MethodInfo kernelMethodInfo, FSharpOption`1 instanceOpt, FSharpList`1 arguments)\r\n",
      "   at Alea.CSharp.GpuExtensions.Launch[T1,T2,T3,T4,T5,T6](Gpu this, Action`6 kernel, LaunchParam lp, T1 arg1, T2 arg2, T3 arg3, T4 arg4, T5 arg5, T6 arg6)\r\n",
      "   at Alea.Parallel.Device.DeviceScan.Scan[T](Session session, Constant`1 constNT, Constant`1 constVT, Func`3 op, T identity, deviceptr`1 outputs, deviceptr`1 inputs, deviceptr`1 partials, T init, Int32 count, Int32[] passes, Int32 pass)\r\n",
      "   at Alea.Parallel.Device.DeviceScan.Scan[T](Session session, Int32 nt, Int32 vt, Func`3 op, T identity, deviceptr`1 outputs, deviceptr`1 inputs, T init, Int32 count)\r\n",
      "   at Alea.Parallel.GpuExtension.Scan[T](Session session, T[] outputs, T[] inputs, T init, Func`3 op, T identity)\r\n",
      "   at FSI_0016.scanit() in c:\\Git\\BioSandbox\\Notebooks\\input.fsx:line 11\r\n",
      "   at <StartupCode$FSI_0017>.$FSI_0017.main@()\r\n",
      "Stopped due to error"
     ]
    }
   ],
   "source": [
    "scanit()"
   ]
  },
  {
   "cell_type": "code",
   "execution_count": 7,
   "metadata": {
    "collapsed": false
   },
   "outputs": [
    {
     "name": "stderr",
     "output_type": "stream",
     "text": [
      "System.Exception: Object reference not set to an instance of an object.\r\n",
      "Loading method as kernel:\r\n",
      "-> Method: Alea.Parallel.Device.DeviceScan.[Void KernelUpsweep[Int32](Alea.Constant`1[System.Int32], Alea.Constant`1[System.Int32], System.Func`3[System.Int32,System.Int32,System.Int32], Alea.deviceptr`1[System.Int32], Alea.deviceptr`1[System.Int32], Int32)]\r\n",
      "-> InstanceOpt: <None>\r\n",
      "-> Argument.#0: 512\r\n",
      "-> Argument.#1: 2\r\n",
      "-> Argument.#2: System.Func`3[System.Int32,System.Int32,System.Int32]\r\n",
      "-> Argument.#3: deviceptr(704140400)\r\n",
      "-> Argument.#4: deviceptr(704067800)\r\n",
      "-> Argument.#5: 10000\r\n",
      "Getting or loading method as kernel:\r\n",
      "-> Method: Alea.Parallel.Device.DeviceScan.[Void KernelUpsweep[Int32](Alea.Constant`1[System.Int32], Alea.Constant`1[System.Int32], System.Func`3[System.Int32,System.Int32,System.Int32], Alea.deviceptr`1[System.Int32], Alea.deviceptr`1[System.Int32], Int32)]\r\n",
      "-> InstanceOpt: <None>\r\n",
      "-> Argument.#0: 512\r\n",
      "-> Argument.#1: 2\r\n",
      "-> Argument.#2: System.Func`3[System.Int32,System.Int32,System.Int32]\r\n",
      "-> Argument.#3: deviceptr(704140400)\r\n",
      "-> Argument.#4: deviceptr(704067800)\r\n",
      "-> Argument.#5: 10000\r\n",
      "\r\n",
      "   at Alea.Gpu.GetOrLoad(MethodInfo kernelMethodInfo, FSharpOption`1 instanceOpt, FSharpList`1 arguments)\r\n",
      "   at Alea.CSharp.GpuExtensions.Launch[T1,T2,T3,T4,T5,T6](Gpu this, Action`6 kernel, LaunchParam lp, T1 arg1, T2 arg2, T3 arg3, T4 arg4, T5 arg5, T6 arg6)\r\n",
      "   at Alea.Parallel.Device.DeviceScan.Scan[T](Session session, Constant`1 constNT, Constant`1 constVT, Func`3 op, T identity, deviceptr`1 outputs, deviceptr`1 inputs, deviceptr`1 partials, T init, Int32 count, Int32[] passes, Int32 pass)\r\n",
      "   at Alea.Parallel.Device.DeviceScan.Scan[T](Session session, Int32 nt, Int32 vt, Func`3 op, T identity, deviceptr`1 outputs, deviceptr`1 inputs, T init, Int32 count)\r\n",
      "   at <StartupCode$FSI_0018>.$FSI_0018.main@() in c:\\Git\\BioSandbox\\Notebooks\\input.fsx:line 9\r\n",
      "Stopped due to error"
     ]
    }
   ],
   "source": [
    "arrOut <- Gpu.CopyToHost(devOut)\n",
    "printfn \"%A\" arrOut\n",
    "    \n",
    "let arrScan = arr |> Array.scan(fun st y -> st + y) 0\n",
    "printfn \"%b\" (arrOut = arrScan.[1..])"
   ]
  },
  {
   "cell_type": "code",
   "execution_count": null,
   "metadata": {
    "collapsed": true
   },
   "outputs": [],
   "source": []
  }
 ],
 "metadata": {
  "kernelspec": {
   "display_name": "F#",
   "language": "fsharp",
   "name": "ifsharp"
  },
  "language": "fsharp",
  "language_info": {
   "codemirror_mode": "",
   "file_extension": ".fs",
   "mimetype": "text/x-fsharp",
   "name": "fsharp",
   "nbconvert_exporter": "",
   "pygments_lexer": "",
   "version": "4.3.1.0"
  }
 },
 "nbformat": 4,
 "nbformat_minor": 2
}
